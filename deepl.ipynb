{
 "cells": [
  {
   "cell_type": "code",
   "execution_count": null,
   "metadata": {},
   "outputs": [],
   "source": [
    "import json\n",
    "import requests"
   ]
  },
  {
   "cell_type": "code",
   "execution_count": null,
   "metadata": {},
   "outputs": [],
   "source": [
    "file_path = r\"\"\n",
    "with open(file_path, 'r',encoding = 'utf-8') as f:\n",
    "    json_data = json.load(f)\n",
    "\n",
    "len(trans_text)"
   ]
  },
  {
   "cell_type": "code",
   "execution_count": null,
   "metadata": {},
   "outputs": [],
   "source": [
    "def deepl_translator(text, headers, url):\n",
    "    payload = {\n",
    "        \"text\": text,\n",
    "        \"source\": \"en\",   ## 번역할 언어\n",
    "        \"target\": \"ko\"    ## 번역 결과 언어\n",
    "    }\n",
    "    response = requests.request(\"POST\", url, json=payload, headers=headers)\n",
    "    response_json = response.json()\n",
    "    if 'text' in response_json:\n",
    "        return response_json['text']\n",
    "    else:\n",
    "        raise ValueError(f\"Translation failed. Response: {response_json}\")\n",
    "\n",
    "save_file = r''\n",
    "trans_text = []\n",
    "\n",
    "try:\n",
    "    for i in range(len(json_data)):\n",
    "        if json_data[i]['Response'] is not None:\n",
    "            try:\n",
    "                translated_text = deepl_translator(json_data[i]['Response'], headers, url)\n",
    "                grade = json_data[i]['Grade']\n",
    "                trans_text.append({\n",
    "                    \"Response\": translated_text,\n",
    "                    \"Grade\": grade\n",
    "                })\n",
    "            except requests.exceptions.RequestException as req_err:\n",
    "                print(f\"Translation error at index {i}: {req_err}\")\n",
    "                grade = json_data[i]['Grade']\n",
    "                trans_text.append({\n",
    "                    \"Response\": \"\",\n",
    "                    \"Grade\": grade\n",
    "                })\n",
    "            except ValueError as val_err:\n",
    "                print(f\"Translation error at index {i}: {val_err}\")\n",
    "                grade = json_data[i]['Grade']\n",
    "                trans_text.append({\n",
    "                    \"Response\":\"\",\n",
    "                    \"Grade\": grade\n",
    "                })\n",
    "            except Exception as e:\n",
    "                print(f\"Translation error at index {i}: {e}\")\n",
    "                grade = json_data[i]['Grade']\n",
    "                trans_text.append({\n",
    "                    \"Response\": \"\",\n",
    "                    \"Grade\": grade\n",
    "                })\n",
    "        else:\n",
    "            print(f\"Skipping non-compliant data at index {i}\")\n",
    "            grade = json_data[i]['Grade']\n",
    "            trans_text.append({\n",
    "                \"Response\": \"\",\n",
    "                \"Grade\": grade\n",
    "                })\n",
    "\n",
    "except Exception as e:\n",
    "    print('Error:', e)\n",
    "\n",
    "with open(save_file, 'w', encoding='utf-8') as f:\n",
    "    json.dump(trans_text, f, indent=4, ensure_ascii=False)\n"
   ]
  }
 ],
 "metadata": {
  "kernelspec": {
   "display_name": "Python 3",
   "language": "python",
   "name": "python3"
  },
  "language_info": {
   "codemirror_mode": {
    "name": "ipython",
    "version": 3
   },
   "file_extension": ".py",
   "mimetype": "text/x-python",
   "name": "python",
   "nbconvert_exporter": "python",
   "pygments_lexer": "ipython3",
   "version": "3.11.4"
  },
  "orig_nbformat": 4
 },
 "nbformat": 4,
 "nbformat_minor": 2
}
