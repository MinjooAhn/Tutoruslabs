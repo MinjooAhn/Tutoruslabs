{
 "cells": [
  {
   "cell_type": "code",
   "execution_count": null,
   "metadata": {},
   "outputs": [],
   "source": [
    "import numpy as np\n",
    "import pandas as pd\n",
    "from sklearn.metrics import confusion_matrix, cohen_kappa_score\n"
   ]
  },
  {
   "cell_type": "code",
   "execution_count": null,
   "metadata": {},
   "outputs": [],
   "source": [
    "main_df = pd.read_excel(r\"\")\n",
    "print(main_df.columns)"
   ]
  },
  {
   "cell_type": "code",
   "execution_count": null,
   "metadata": {},
   "outputs": [],
   "source": [
    "print(\"Confusion Matrix of C1\\n\", confusion_matrix(main_df['C1'],main_df['C1_gpt3.5']),\"\\n\")\n",
    "print(\"QWK of C1: \",cohen_kappa_score(main_df['C1'],main_df['C1_gpt3.5'],weights= 'quadratic'))\n",
    "\n",
    "print(\"Confusion Matrix of C2\\n\", confusion_matrix(main_df['C2'],main_df['C2_gpt3.5']),\"\\n\")\n",
    "print(\"QWK of C2: \",cohen_kappa_score(main_df['C2'],main_df['C2_gpt3.5'],weights= 'quadratic'))\n",
    "\n",
    "print(\"Confusion Matrix of C3\\n\", confusion_matrix(main_df['C3'],main_df['C3_gpt3.5']),\"\\n\")\n",
    "print(\"QWK of C3: \",cohen_kappa_score(main_df['C3'],main_df['C3_gpt3.5'],weights= 'quadratic'))\n",
    "\n",
    "print(\"Confusion Matrix of C4\\n\", confusion_matrix(main_df['C4'],main_df['C4_gpt3.5']),\"\\n\")\n",
    "print(\"QWK of C4: \",cohen_kappa_score(main_df['C4'],main_df['C4_gpt3.5'],weights= 'quadratic'))\n",
    "\n",
    "print(\"Confusion Matrix of C5\\n\", confusion_matrix(main_df['C5'],main_df['C5_gpt3.5']),\"\\n\")\n",
    "print(\"QWK of C5: \",cohen_kappa_score(main_df['C5'],main_df['C5_gpt3.5'],weights= 'quadratic'))\n",
    "\n",
    "print(\"Confusion Matrix of O1\\n\", confusion_matrix(main_df['O1'],main_df['O1_gpt3.5']),\"\\n\")\n",
    "print(\"QWK of O1: \",cohen_kappa_score(main_df['O1'],main_df['O1_gpt3.5'],weights= 'quadratic'))\n",
    "\n",
    "print(\"Confusion Matrix of O2\\n\", confusion_matrix(main_df['O2'],main_df['O2_gpt3.5']),\"\\n\")\n",
    "print(\"QWK of O2: \",cohen_kappa_score(main_df['O2'],main_df['O2_gpt3.5'],weights= 'quadratic'))\n",
    "\n",
    "main_df = main_df.dropna(subset=['L1_format', 'L1_gpt3.5_format'])\n",
    "\n",
    "print(\"Confusion Matrix of L1\\n\", confusion_matrix(main_df['L1_format'],main_df['L1_gpt3.5_format']),\"\\n\")\n",
    "print(\"QWK of L1: \",cohen_kappa_score(main_df['L1_format'],main_df['L1_gpt3.5_format'],weights= 'quadratic'))\n",
    "\n",
    "print(\"Confusion Matrix of L2\\n\", confusion_matrix(main_df['L2_format'],main_df['L2_gpt3.5_format']),\"\\n\")\n",
    "print(\"QWK of L2: \",cohen_kappa_score(main_df['L2_format'],main_df['L2_gpt3.5_format'],weights= 'quadratic'))\n",
    "\n",
    "print(\"Confusion Matrix of C5_revised\\n\", confusion_matrix(main_df['C5'],main_df['C5_revised_gpt3.5']),\"\\n\")\n",
    "print(\"QWK of C5_revised: \",cohen_kappa_score(main_df['C5'],main_df['C5_revised_gpt3.5'],weights= 'quadratic'))"
   ]
  }
 ],
 "metadata": {
  "kernelspec": {
   "display_name": "Python 3",
   "language": "python",
   "name": "python3"
  },
  "language_info": {
   "codemirror_mode": {
    "name": "ipython",
    "version": 3
   },
   "file_extension": ".py",
   "mimetype": "text/x-python",
   "name": "python",
   "nbconvert_exporter": "python",
   "pygments_lexer": "ipython3",
   "version": "3.10.6"
  },
  "orig_nbformat": 4
 },
 "nbformat": 4,
 "nbformat_minor": 2
}
